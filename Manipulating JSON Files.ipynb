{
 "cells": [
  {
   "cell_type": "code",
   "execution_count": 1,
   "id": "07edd4b3",
   "metadata": {},
   "outputs": [],
   "source": [
    "import json"
   ]
  },
  {
   "cell_type": "code",
   "execution_count": 2,
   "id": "5df18c49",
   "metadata": {},
   "outputs": [],
   "source": [
    "a_file = open(\"MOCK_DATA.json\", \"r\")"
   ]
  },
  {
   "cell_type": "code",
   "execution_count": 3,
   "id": "833a0a51",
   "metadata": {},
   "outputs": [
    {
     "data": {
      "text/plain": [
       "<_io.TextIOWrapper name='MOCK_DATA.json' mode='r' encoding='cp1252'>"
      ]
     },
     "execution_count": 3,
     "metadata": {},
     "output_type": "execute_result"
    }
   ],
   "source": [
    "a_file"
   ]
  },
  {
   "cell_type": "code",
   "execution_count": 4,
   "id": "0955cd93",
   "metadata": {},
   "outputs": [],
   "source": [
    "json_object = json.load(a_file)"
   ]
  },
  {
   "cell_type": "code",
   "execution_count": 5,
   "id": "eab632aa",
   "metadata": {},
   "outputs": [],
   "source": [
    "a_file.close()"
   ]
  },
  {
   "cell_type": "code",
   "execution_count": 6,
   "id": "747b5159",
   "metadata": {},
   "outputs": [
    {
     "data": {
      "text/plain": [
       "[{'id': 1,\n",
       "  'first_name': 'Adelheid',\n",
       "  'last_name': 'Tures',\n",
       "  'email': 'atures0@fotki.com',\n",
       "  'gender': 'Male'},\n",
       " {'id': 2,\n",
       "  'first_name': 'Gerick',\n",
       "  'last_name': 'Frossell',\n",
       "  'email': 'gfrossell1@house.gov',\n",
       "  'gender': 'Female'},\n",
       " {'id': 3,\n",
       "  'first_name': 'Gav',\n",
       "  'last_name': 'Illyes',\n",
       "  'email': 'gillyes2@opera.com',\n",
       "  'gender': 'Male'},\n",
       " {'id': 4,\n",
       "  'first_name': 'Emmi',\n",
       "  'last_name': 'Happs',\n",
       "  'email': 'ehapps3@paginegialle.it',\n",
       "  'gender': 'Male'},\n",
       " {'id': 5,\n",
       "  'first_name': 'Arlyn',\n",
       "  'last_name': 'Kunzler',\n",
       "  'email': 'akunzler4@abc.net.au',\n",
       "  'gender': 'Polygender'},\n",
       " {'id': 6,\n",
       "  'first_name': 'Meggy',\n",
       "  'last_name': 'McGready',\n",
       "  'email': 'mmcgready5@cargocollective.com',\n",
       "  'gender': 'Male'},\n",
       " {'id': 7,\n",
       "  'first_name': 'Brett',\n",
       "  'last_name': 'Bottomley',\n",
       "  'email': 'bbottomley6@state.tx.us',\n",
       "  'gender': 'Female'},\n",
       " {'id': 8,\n",
       "  'first_name': 'Tami',\n",
       "  'last_name': 'Stair',\n",
       "  'email': 'tstair7@wikipedia.org',\n",
       "  'gender': 'Female'},\n",
       " {'id': 9,\n",
       "  'first_name': 'Cthrine',\n",
       "  'last_name': 'Padrick',\n",
       "  'email': 'cpadrick8@opera.com',\n",
       "  'gender': 'Female'},\n",
       " {'id': 10,\n",
       "  'first_name': 'Rosina',\n",
       "  'last_name': 'Byatt',\n",
       "  'email': 'rbyatt9@intel.com',\n",
       "  'gender': 'Male'},\n",
       " {'id': 11,\n",
       "  'first_name': 'Darryl',\n",
       "  'last_name': 'Waine',\n",
       "  'email': 'dwainea@sourceforge.net',\n",
       "  'gender': 'Female'},\n",
       " {'id': 12,\n",
       "  'first_name': 'Silvanus',\n",
       "  'last_name': 'Annes',\n",
       "  'email': 'sannesb@aboutads.info',\n",
       "  'gender': 'Female'},\n",
       " {'id': 13,\n",
       "  'first_name': 'Saloma',\n",
       "  'last_name': 'Coney',\n",
       "  'email': 'sconeyc@hud.gov',\n",
       "  'gender': 'Male'},\n",
       " {'id': 14,\n",
       "  'first_name': 'Shurlocke',\n",
       "  'last_name': 'Bartosinski',\n",
       "  'email': 'sbartosinskid@cbsnews.com',\n",
       "  'gender': 'Polygender'},\n",
       " {'id': 15,\n",
       "  'first_name': 'Katheryn',\n",
       "  'last_name': 'Hyslop',\n",
       "  'email': 'khyslope@abc.net.au',\n",
       "  'gender': 'Male'},\n",
       " {'id': 16,\n",
       "  'first_name': 'Amory',\n",
       "  'last_name': 'Brand-Hardy',\n",
       "  'email': 'abrandhardyf@artisteer.com',\n",
       "  'gender': 'Female'},\n",
       " {'id': 17,\n",
       "  'first_name': 'Luce',\n",
       "  'last_name': 'Haborn',\n",
       "  'email': 'lhaborng@fda.gov',\n",
       "  'gender': 'Genderqueer'},\n",
       " {'id': 18,\n",
       "  'first_name': 'Roley',\n",
       "  'last_name': 'Whitticks',\n",
       "  'email': 'rwhitticksh@alibaba.com',\n",
       "  'gender': 'Male'},\n",
       " {'id': 19,\n",
       "  'first_name': 'Sofie',\n",
       "  'last_name': 'Jirak',\n",
       "  'email': 'sjiraki@loc.gov',\n",
       "  'gender': 'Male'},\n",
       " {'id': 20,\n",
       "  'first_name': 'Tracy',\n",
       "  'last_name': 'Scoffins',\n",
       "  'email': 'tscoffinsj@about.me',\n",
       "  'gender': 'Female'},\n",
       " {'id': 21,\n",
       "  'first_name': 'Shawn',\n",
       "  'last_name': 'Mendes',\n",
       "  'email': 'shawn@apple.com',\n",
       "  'gender': 'Male'}]"
      ]
     },
     "execution_count": 6,
     "metadata": {},
     "output_type": "execute_result"
    }
   ],
   "source": [
    "json_object"
   ]
  },
  {
   "cell_type": "code",
   "execution_count": 8,
   "id": "4ee9a7c0",
   "metadata": {},
   "outputs": [
    {
     "name": "stdout",
     "output_type": "stream",
     "text": [
      "{'id': 1, 'first_name': 'Adelheid', 'last_name': 'Tures', 'email': 'atures0@fotki.com', 'gender': 'Male'}\n",
      "{'id': 2, 'first_name': 'Gerick', 'last_name': 'Frossell', 'email': 'gfrossell1@house.gov', 'gender': 'Female'}\n",
      "{'id': 3, 'first_name': 'Gav', 'last_name': 'Illyes', 'email': 'gillyes2@opera.com', 'gender': 'Male'}\n",
      "{'id': 4, 'first_name': 'Emmi', 'last_name': 'Happs', 'email': 'ehapps3@paginegialle.it', 'gender': 'Male'}\n",
      "{'id': 5, 'first_name': 'Arlyn', 'last_name': 'Kunzler', 'email': 'akunzler4@abc.net.au', 'gender': 'Polygender'}\n",
      "{'id': 6, 'first_name': 'Meggy', 'last_name': 'McGready', 'email': 'mmcgready5@cargocollective.com', 'gender': 'Male'}\n",
      "{'id': 7, 'first_name': 'Brett', 'last_name': 'Bottomley', 'email': 'bbottomley6@state.tx.us', 'gender': 'Female'}\n",
      "{'id': 8, 'first_name': 'Tami', 'last_name': 'Stair', 'email': 'tstair7@wikipedia.org', 'gender': 'Female'}\n",
      "{'id': 9, 'first_name': 'Cthrine', 'last_name': 'Padrick', 'email': 'cpadrick8@opera.com', 'gender': 'Female'}\n",
      "{'id': 10, 'first_name': 'Rosina', 'last_name': 'Byatt', 'email': 'rbyatt9@intel.com', 'gender': 'Male'}\n",
      "{'id': 11, 'first_name': 'Darryl', 'last_name': 'Waine', 'email': 'dwainea@sourceforge.net', 'gender': 'Female'}\n",
      "{'id': 12, 'first_name': 'Silvanus', 'last_name': 'Annes', 'email': 'sannesb@aboutads.info', 'gender': 'Female'}\n",
      "{'id': 13, 'first_name': 'Saloma', 'last_name': 'Coney', 'email': 'sconeyc@hud.gov', 'gender': 'Male'}\n",
      "{'id': 14, 'first_name': 'Shurlocke', 'last_name': 'Bartosinski', 'email': 'sbartosinskid@cbsnews.com', 'gender': 'Polygender'}\n",
      "{'id': 15, 'first_name': 'Katheryn', 'last_name': 'Hyslop', 'email': 'khyslope@abc.net.au', 'gender': 'Male'}\n",
      "{'id': 16, 'first_name': 'Amory', 'last_name': 'Brand-Hardy', 'email': 'abrandhardyf@artisteer.com', 'gender': 'Female'}\n",
      "{'id': 17, 'first_name': 'Luce', 'last_name': 'Haborn', 'email': 'lhaborng@fda.gov', 'gender': 'Genderqueer'}\n",
      "{'id': 18, 'first_name': 'Roley', 'last_name': 'Whitticks', 'email': 'rwhitticksh@alibaba.com', 'gender': 'Male'}\n",
      "{'id': 19, 'first_name': 'Sofie', 'last_name': 'Jirak', 'email': 'sjiraki@loc.gov', 'gender': 'Male'}\n",
      "{'id': 20, 'first_name': 'Tracy', 'last_name': 'Scoffins', 'email': 'tscoffinsj@about.me', 'gender': 'Female'}\n",
      "{'id': 21, 'first_name': 'Shawn', 'last_name': 'Mendes', 'email': 'shawn@apple.com', 'gender': 'Male'}\n"
     ]
    }
   ],
   "source": [
    "for i in json_object:\n",
    "    print(i)"
   ]
  },
  {
   "cell_type": "code",
   "execution_count": 11,
   "id": "383762a7",
   "metadata": {},
   "outputs": [
    {
     "name": "stdout",
     "output_type": "stream",
     "text": [
      "{'id': 5, 'first_name': 'Arlyn', 'last_name': 'Kunzler', 'email': 'akunzler4@abc.net.au', 'gender': 'Polygender'}\n",
      "{'id': 14, 'first_name': 'Shurlocke', 'last_name': 'Bartosinski', 'email': 'sbartosinskid@cbsnews.com', 'gender': 'Polygender'}\n"
     ]
    }
   ],
   "source": [
    "for i in json_object:\n",
    "    if i[\"gender\"] == 'Polygender':\n",
    "        print(i)"
   ]
  },
  {
   "cell_type": "code",
   "execution_count": 12,
   "id": "979b2177",
   "metadata": {},
   "outputs": [
    {
     "name": "stdout",
     "output_type": "stream",
     "text": [
      "{'id': 5, 'first_name': 'Arlyn', 'last_name': 'Kunzler', 'email': 'akunzler4@abc.net.au', 'gender': 'NA'}\n",
      "{'id': 14, 'first_name': 'Shurlocke', 'last_name': 'Bartosinski', 'email': 'sbartosinskid@cbsnews.com', 'gender': 'NA'}\n"
     ]
    }
   ],
   "source": [
    "for i in json_object:\n",
    "    if i[\"gender\"] == \"Polygender\":\n",
    "        i[\"gender\"] = \"NA\"\n",
    "        print(i)"
   ]
  },
  {
   "cell_type": "code",
   "execution_count": 13,
   "id": "697d3cb6",
   "metadata": {},
   "outputs": [
    {
     "name": "stdout",
     "output_type": "stream",
     "text": [
      "{'id': 1, 'first_name': 'Adelheid', 'last_name': 'Tures', 'email': 'atures0@fotki.com', 'gender': 'Male'}\n",
      "{'id': 2, 'first_name': 'Gerick', 'last_name': 'Frossell', 'email': 'gfrossell1@house.gov', 'gender': 'Female'}\n",
      "{'id': 3, 'first_name': 'Gav', 'last_name': 'Illyes', 'email': 'gillyes2@opera.com', 'gender': 'Male'}\n",
      "{'id': 4, 'first_name': 'Emmi', 'last_name': 'Happs', 'email': 'ehapps3@paginegialle.it', 'gender': 'Male'}\n",
      "{'id': 5, 'first_name': 'Arlyn', 'last_name': 'Kunzler', 'email': 'akunzler4@abc.net.au', 'gender': 'NA'}\n",
      "{'id': 6, 'first_name': 'Meggy', 'last_name': 'McGready', 'email': 'mmcgready5@cargocollective.com', 'gender': 'Male'}\n",
      "{'id': 7, 'first_name': 'Brett', 'last_name': 'Bottomley', 'email': 'bbottomley6@state.tx.us', 'gender': 'Female'}\n",
      "{'id': 8, 'first_name': 'Tami', 'last_name': 'Stair', 'email': 'tstair7@wikipedia.org', 'gender': 'Female'}\n",
      "{'id': 9, 'first_name': 'Cthrine', 'last_name': 'Padrick', 'email': 'cpadrick8@opera.com', 'gender': 'Female'}\n",
      "{'id': 10, 'first_name': 'Rosina', 'last_name': 'Byatt', 'email': 'rbyatt9@intel.com', 'gender': 'Male'}\n",
      "{'id': 11, 'first_name': 'Darryl', 'last_name': 'Waine', 'email': 'dwainea@sourceforge.net', 'gender': 'Female'}\n",
      "{'id': 12, 'first_name': 'Silvanus', 'last_name': 'Annes', 'email': 'sannesb@aboutads.info', 'gender': 'Female'}\n",
      "{'id': 13, 'first_name': 'Saloma', 'last_name': 'Coney', 'email': 'sconeyc@hud.gov', 'gender': 'Male'}\n",
      "{'id': 14, 'first_name': 'Shurlocke', 'last_name': 'Bartosinski', 'email': 'sbartosinskid@cbsnews.com', 'gender': 'NA'}\n",
      "{'id': 15, 'first_name': 'Katheryn', 'last_name': 'Hyslop', 'email': 'khyslope@abc.net.au', 'gender': 'Male'}\n",
      "{'id': 16, 'first_name': 'Amory', 'last_name': 'Brand-Hardy', 'email': 'abrandhardyf@artisteer.com', 'gender': 'Female'}\n",
      "{'id': 17, 'first_name': 'Luce', 'last_name': 'Haborn', 'email': 'lhaborng@fda.gov', 'gender': 'Genderqueer'}\n",
      "{'id': 18, 'first_name': 'Roley', 'last_name': 'Whitticks', 'email': 'rwhitticksh@alibaba.com', 'gender': 'Male'}\n",
      "{'id': 19, 'first_name': 'Sofie', 'last_name': 'Jirak', 'email': 'sjiraki@loc.gov', 'gender': 'Male'}\n",
      "{'id': 20, 'first_name': 'Tracy', 'last_name': 'Scoffins', 'email': 'tscoffinsj@about.me', 'gender': 'Female'}\n",
      "{'id': 21, 'first_name': 'Shawn', 'last_name': 'Mendes', 'email': 'shawn@apple.com', 'gender': 'Male'}\n"
     ]
    }
   ],
   "source": [
    "for i in json_object:\n",
    "    print(i)"
   ]
  },
  {
   "cell_type": "code",
   "execution_count": 18,
   "id": "be29eb19",
   "metadata": {},
   "outputs": [],
   "source": [
    "i.update({\"id\":22,\"first_name\":\"Ed\",\"last_name\":\"Sheeran\",\"email\":\"sheeraned@gmail.com\",\"gender\":\"Male\"})"
   ]
  },
  {
   "cell_type": "code",
   "execution_count": 19,
   "id": "dbbd38db",
   "metadata": {},
   "outputs": [
    {
     "name": "stdout",
     "output_type": "stream",
     "text": [
      "{'id': 1, 'first_name': 'Adelheid', 'last_name': 'Tures', 'email': 'atures0@fotki.com', 'gender': 'Male'}\n",
      "{'id': 2, 'first_name': 'Gerick', 'last_name': 'Frossell', 'email': 'gfrossell1@house.gov', 'gender': 'Female'}\n",
      "{'id': 3, 'first_name': 'Gav', 'last_name': 'Illyes', 'email': 'gillyes2@opera.com', 'gender': 'Male'}\n",
      "{'id': 4, 'first_name': 'Emmi', 'last_name': 'Happs', 'email': 'ehapps3@paginegialle.it', 'gender': 'Male'}\n",
      "{'id': 5, 'first_name': 'Arlyn', 'last_name': 'Kunzler', 'email': 'akunzler4@abc.net.au', 'gender': 'NA'}\n",
      "{'id': 6, 'first_name': 'Meggy', 'last_name': 'McGready', 'email': 'mmcgready5@cargocollective.com', 'gender': 'Male'}\n",
      "{'id': 7, 'first_name': 'Brett', 'last_name': 'Bottomley', 'email': 'bbottomley6@state.tx.us', 'gender': 'Female'}\n",
      "{'id': 8, 'first_name': 'Tami', 'last_name': 'Stair', 'email': 'tstair7@wikipedia.org', 'gender': 'Female'}\n",
      "{'id': 9, 'first_name': 'Cthrine', 'last_name': 'Padrick', 'email': 'cpadrick8@opera.com', 'gender': 'Female'}\n",
      "{'id': 10, 'first_name': 'Rosina', 'last_name': 'Byatt', 'email': 'rbyatt9@intel.com', 'gender': 'Male'}\n",
      "{'id': 11, 'first_name': 'Darryl', 'last_name': 'Waine', 'email': 'dwainea@sourceforge.net', 'gender': 'Female'}\n",
      "{'id': 12, 'first_name': 'Silvanus', 'last_name': 'Annes', 'email': 'sannesb@aboutads.info', 'gender': 'Female'}\n",
      "{'id': 13, 'first_name': 'Saloma', 'last_name': 'Coney', 'email': 'sconeyc@hud.gov', 'gender': 'Male'}\n",
      "{'id': 14, 'first_name': 'Shurlocke', 'last_name': 'Bartosinski', 'email': 'sbartosinskid@cbsnews.com', 'gender': 'NA'}\n",
      "{'id': 15, 'first_name': 'Katheryn', 'last_name': 'Hyslop', 'email': 'khyslope@abc.net.au', 'gender': 'Male'}\n",
      "{'id': 16, 'first_name': 'Amory', 'last_name': 'Brand-Hardy', 'email': 'abrandhardyf@artisteer.com', 'gender': 'Female'}\n",
      "{'id': 17, 'first_name': 'Luce', 'last_name': 'Haborn', 'email': 'lhaborng@fda.gov', 'gender': 'Genderqueer'}\n",
      "{'id': 18, 'first_name': 'Roley', 'last_name': 'Whitticks', 'email': 'rwhitticksh@alibaba.com', 'gender': 'Male'}\n",
      "{'id': 19, 'first_name': 'Sofie', 'last_name': 'Jirak', 'email': 'sjiraki@loc.gov', 'gender': 'Male'}\n",
      "{'id': 20, 'first_name': 'Tracy', 'last_name': 'Scoffins', 'email': 'tscoffinsj@about.me', 'gender': 'Female'}\n",
      "{'id': 22, 'first_name': 'Ed', 'last_name': 'Sheeran', 'email': 'sheeraned@gmail.com', 'gender': 'Male'}\n"
     ]
    }
   ],
   "source": [
    "for i in json_object:\n",
    "    print(i)"
   ]
  },
  {
   "cell_type": "code",
   "execution_count": 22,
   "id": "587c6711",
   "metadata": {},
   "outputs": [],
   "source": [
    "b_file = open(\"MOCK_DATA.json\",\"w\")"
   ]
  },
  {
   "cell_type": "code",
   "execution_count": 23,
   "id": "e0cc1c30",
   "metadata": {},
   "outputs": [],
   "source": [
    "json.dump(json_object,b_file)"
   ]
  },
  {
   "cell_type": "code",
   "execution_count": 24,
   "id": "d7732639",
   "metadata": {},
   "outputs": [],
   "source": [
    "b_file.close()"
   ]
  },
  {
   "cell_type": "code",
   "execution_count": null,
   "id": "4dd69ac4",
   "metadata": {},
   "outputs": [],
   "source": []
  },
  {
   "cell_type": "code",
   "execution_count": 26,
   "id": "96cdccf5",
   "metadata": {},
   "outputs": [],
   "source": [
    "c_file = open(\"MOCK_DATA.json\",\"r+\")"
   ]
  },
  {
   "cell_type": "code",
   "execution_count": 27,
   "id": "f25fac38",
   "metadata": {},
   "outputs": [],
   "source": [
    "obj2 = json.load(c_file)"
   ]
  },
  {
   "cell_type": "code",
   "execution_count": 28,
   "id": "12fb904f",
   "metadata": {},
   "outputs": [
    {
     "data": {
      "text/plain": [
       "[{'id': 1,\n",
       "  'first_name': 'Adelheid',\n",
       "  'last_name': 'Tures',\n",
       "  'email': 'atures0@fotki.com',\n",
       "  'gender': 'Male'},\n",
       " {'id': 2,\n",
       "  'first_name': 'Gerick',\n",
       "  'last_name': 'Frossell',\n",
       "  'email': 'gfrossell1@house.gov',\n",
       "  'gender': 'Female'},\n",
       " {'id': 3,\n",
       "  'first_name': 'Gav',\n",
       "  'last_name': 'Illyes',\n",
       "  'email': 'gillyes2@opera.com',\n",
       "  'gender': 'Male'},\n",
       " {'id': 4,\n",
       "  'first_name': 'Emmi',\n",
       "  'last_name': 'Happs',\n",
       "  'email': 'ehapps3@paginegialle.it',\n",
       "  'gender': 'Male'},\n",
       " {'id': 5,\n",
       "  'first_name': 'Arlyn',\n",
       "  'last_name': 'Kunzler',\n",
       "  'email': 'akunzler4@abc.net.au',\n",
       "  'gender': 'NA'},\n",
       " {'id': 6,\n",
       "  'first_name': 'Meggy',\n",
       "  'last_name': 'McGready',\n",
       "  'email': 'mmcgready5@cargocollective.com',\n",
       "  'gender': 'Male'},\n",
       " {'id': 7,\n",
       "  'first_name': 'Brett',\n",
       "  'last_name': 'Bottomley',\n",
       "  'email': 'bbottomley6@state.tx.us',\n",
       "  'gender': 'Female'},\n",
       " {'id': 8,\n",
       "  'first_name': 'Tami',\n",
       "  'last_name': 'Stair',\n",
       "  'email': 'tstair7@wikipedia.org',\n",
       "  'gender': 'Female'},\n",
       " {'id': 9,\n",
       "  'first_name': 'Cthrine',\n",
       "  'last_name': 'Padrick',\n",
       "  'email': 'cpadrick8@opera.com',\n",
       "  'gender': 'Female'},\n",
       " {'id': 10,\n",
       "  'first_name': 'Rosina',\n",
       "  'last_name': 'Byatt',\n",
       "  'email': 'rbyatt9@intel.com',\n",
       "  'gender': 'Male'},\n",
       " {'id': 11,\n",
       "  'first_name': 'Darryl',\n",
       "  'last_name': 'Waine',\n",
       "  'email': 'dwainea@sourceforge.net',\n",
       "  'gender': 'Female'},\n",
       " {'id': 12,\n",
       "  'first_name': 'Silvanus',\n",
       "  'last_name': 'Annes',\n",
       "  'email': 'sannesb@aboutads.info',\n",
       "  'gender': 'Female'},\n",
       " {'id': 13,\n",
       "  'first_name': 'Saloma',\n",
       "  'last_name': 'Coney',\n",
       "  'email': 'sconeyc@hud.gov',\n",
       "  'gender': 'Male'},\n",
       " {'id': 14,\n",
       "  'first_name': 'Shurlocke',\n",
       "  'last_name': 'Bartosinski',\n",
       "  'email': 'sbartosinskid@cbsnews.com',\n",
       "  'gender': 'NA'},\n",
       " {'id': 15,\n",
       "  'first_name': 'Katheryn',\n",
       "  'last_name': 'Hyslop',\n",
       "  'email': 'khyslope@abc.net.au',\n",
       "  'gender': 'Male'},\n",
       " {'id': 16,\n",
       "  'first_name': 'Amory',\n",
       "  'last_name': 'Brand-Hardy',\n",
       "  'email': 'abrandhardyf@artisteer.com',\n",
       "  'gender': 'Female'},\n",
       " {'id': 17,\n",
       "  'first_name': 'Luce',\n",
       "  'last_name': 'Haborn',\n",
       "  'email': 'lhaborng@fda.gov',\n",
       "  'gender': 'Genderqueer'},\n",
       " {'id': 18,\n",
       "  'first_name': 'Roley',\n",
       "  'last_name': 'Whitticks',\n",
       "  'email': 'rwhitticksh@alibaba.com',\n",
       "  'gender': 'Male'},\n",
       " {'id': 19,\n",
       "  'first_name': 'Sofie',\n",
       "  'last_name': 'Jirak',\n",
       "  'email': 'sjiraki@loc.gov',\n",
       "  'gender': 'Male'},\n",
       " {'id': 20,\n",
       "  'first_name': 'Tracy',\n",
       "  'last_name': 'Scoffins',\n",
       "  'email': 'tscoffinsj@about.me',\n",
       "  'gender': 'Female'},\n",
       " {'id': 22,\n",
       "  'first_name': 'Ed',\n",
       "  'last_name': 'Sheeran',\n",
       "  'email': 'sheeraned@gmail.com',\n",
       "  'gender': 'Male'}]"
      ]
     },
     "execution_count": 28,
     "metadata": {},
     "output_type": "execute_result"
    }
   ],
   "source": [
    "obj2"
   ]
  },
  {
   "cell_type": "code",
   "execution_count": null,
   "id": "425273df",
   "metadata": {},
   "outputs": [],
   "source": []
  }
 ],
 "metadata": {
  "kernelspec": {
   "display_name": "Python 3 (ipykernel)",
   "language": "python",
   "name": "python3"
  },
  "language_info": {
   "codemirror_mode": {
    "name": "ipython",
    "version": 3
   },
   "file_extension": ".py",
   "mimetype": "text/x-python",
   "name": "python",
   "nbconvert_exporter": "python",
   "pygments_lexer": "ipython3",
   "version": "3.9.7"
  }
 },
 "nbformat": 4,
 "nbformat_minor": 5
}
