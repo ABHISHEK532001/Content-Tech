{
 "cells": [
  {
   "cell_type": "code",
   "execution_count": 1,
   "id": "fb061a35",
   "metadata": {},
   "outputs": [],
   "source": [
    "import xml.etree.ElementTree as ET"
   ]
  },
  {
   "cell_type": "code",
   "execution_count": 2,
   "id": "f40886c9",
   "metadata": {},
   "outputs": [],
   "source": [
    "tree = ET.parse('records.xml')\n",
    "root = tree.getroot()"
   ]
  },
  {
   "cell_type": "code",
   "execution_count": 13,
   "id": "221aecac",
   "metadata": {},
   "outputs": [
    {
     "name": "stdout",
     "output_type": "stream",
     "text": [
      "Annice   Trytsman  :  atrytsman0@miitbeian.gov.cn\n",
      "Marie   Seabourne  :  None\n",
      "Fabio   Gascone  :  fgascone2@webeden.co.uk\n",
      "Gallagher   Phelipeaux  :  gphelipeaux3@unc.edu\n",
      "Ynez   Rimbault  :  yrimbault4@biglobe.ne.jp\n",
      "Aggie   Swine  :  aswine5@hibu.com\n",
      "Rennie   Boriston  :  rboriston6@apache.org\n",
      "Filmore   Aim  :  faim7@mit.edu\n",
      "Jocko   Bernadon  :  jbernadon8@arizona.edu\n",
      "Wallas   Ughelli  :  wughelli9@unesco.org\n",
      "Julissa   Bonnesen  :  jbonnesena@ted.com\n",
      "Kent   Emmanueli  :  kemmanuelib@fema.gov\n",
      "Banky   Axby  :  baxbyc@loc.gov\n",
      "Tarrance   Shuttleworth  :  None\n",
      "Farah   Bevis  :  fbevise@nytimes.com\n",
      "Sallee   Smoth  :  ssmothf@pbs.org\n",
      "Haily   Spencelayh  :  hspencelayhg@ask.com\n",
      "Cobby   Budnk  :  cbudnkh@tuttocitta.it\n",
      "Elmo   Morston  :  emorstoni@epa.gov\n",
      "Ambrosio   Frosdick  :  afrosdickj@woothemes.com\n"
     ]
    }
   ],
   "source": [
    "for student in root.findall(\"student\"):\n",
    "    first_name = student.find('name/first_name').text\n",
    "    last_name = student.find('name/last_name').text\n",
    "    email = student.find('email').text\n",
    "    print(first_name,\" \",last_name, \" : \",email)"
   ]
  },
  {
   "cell_type": "code",
   "execution_count": 36,
   "id": "8a8d714c",
   "metadata": {},
   "outputs": [
    {
     "name": "stdout",
     "output_type": "stream",
     "text": [
      "<Element 'name' at 0x000001B18A77D7C0>\n",
      "<Element 'reg_no' at 0x000001B18A77D900>\n",
      "<Element 'gender' at 0x000001B18A77D950>\n",
      "<Element 'contact' at 0x000001B18A77D9A0>\n",
      "<Element 'email' at 0x000001B18A77DA90>\n",
      "<Element 'address' at 0x000001B18A77DB30>\n",
      "<Element 'campus' at 0x000001B18A77DC70>\n",
      "<Element 'mark' at 0x000001B18A77DD10>\n",
      "<Element 'sum' at 0x000001B18A77DEA0>\n",
      "<Element 'hobbies' at 0x000001B18A77DEF0>\n"
     ]
    }
   ],
   "source": [
    "for student in root.find(\"student\"):\n",
    "    print(student)"
   ]
  },
  {
   "cell_type": "code",
   "execution_count": 41,
   "id": "7e8976b9",
   "metadata": {},
   "outputs": [
    {
     "name": "stdout",
     "output_type": "stream",
     "text": [
      "name\n",
      "reg_no\n",
      "gender\n",
      "contact\n",
      "email\n",
      "address\n",
      "campus\n",
      "mark\n",
      "sum\n",
      "hobbies\n"
     ]
    }
   ],
   "source": [
    "for student in root.find(\"student\"):\n",
    "    print(student.tag)"
   ]
  },
  {
   "cell_type": "code",
   "execution_count": 45,
   "id": "58abdd52",
   "metadata": {},
   "outputs": [
    {
     "name": "stdout",
     "output_type": "stream",
     "text": [
      "Enter a name : Cobby\n",
      "Cobby Budnk  -  cbudnkh@tuttocitta.it\n"
     ]
    }
   ],
   "source": [
    "n = input(\"Enter a name : \")\n",
    "for student in root.findall(\"student\"):\n",
    "    first_name = student.find(\"name/first_name\").text\n",
    "    if(n == first_name):\n",
    "        print(first_name , student.find(\"name/last_name\").text ,\" - \", student.find(\"email\").text)"
   ]
  },
  {
   "cell_type": "code",
   "execution_count": null,
   "id": "f7bb0a21",
   "metadata": {},
   "outputs": [],
   "source": []
  }
 ],
 "metadata": {
  "kernelspec": {
   "display_name": "Python 3 (ipykernel)",
   "language": "python",
   "name": "python3"
  },
  "language_info": {
   "codemirror_mode": {
    "name": "ipython",
    "version": 3
   },
   "file_extension": ".py",
   "mimetype": "text/x-python",
   "name": "python",
   "nbconvert_exporter": "python",
   "pygments_lexer": "ipython3",
   "version": "3.9.7"
  }
 },
 "nbformat": 4,
 "nbformat_minor": 5
}
